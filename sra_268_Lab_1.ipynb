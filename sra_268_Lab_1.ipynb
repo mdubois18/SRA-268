{
  "nbformat": 4,
  "nbformat_minor": 0,
  "metadata": {
    "colab": {
      "name": "sra 268 Lab 1",
      "provenance": [],
      "collapsed_sections": [],
      "authorship_tag": "ABX9TyNwEj/SS4RvycwAto10gtVi",
      "include_colab_link": true
    },
    "kernelspec": {
      "name": "python3",
      "display_name": "Python 3"
    }
  },
  "cells": [
    {
      "cell_type": "markdown",
      "metadata": {
        "id": "view-in-github",
        "colab_type": "text"
      },
      "source": [
        "<a href=\"https://colab.research.google.com/github/mdubois18/SRA-268/blob/master/sra_268_Lab_1.ipynb\" target=\"_parent\"><img src=\"https://colab.research.google.com/assets/colab-badge.svg\" alt=\"Open In Colab\"/></a>"
      ]
    },
    {
      "cell_type": "markdown",
      "metadata": {
        "id": "NVZR4CXnKd5m",
        "colab_type": "text"
      },
      "source": [
        "Mike DuBois\n",
        "\n",
        "###Title\n",
        "Comparison of Seasonal Precipitation\n",
        "###Outline\n",
        "My project involves a comparison of the total precipitation experienced per season over the two-year period contained in the dataset. This information could then be compared to the max temp per season in an attempt to find a correlation between temperature and amount of precipitation. \n",
        "###Sketch\n",
        "![alt text](https://raw.githubusercontent.com/mdubois18/SRA-268/master/20200124_153132.jpg)\n",
        "###Conclusions\n",
        "I am interested to see how the data is distributed over time. Through the graphs, it should be easy to find which months consistently have more precipitation than others."
      ]
    }
  ]
}